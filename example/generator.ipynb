{
 "cells": [
  {
   "cell_type": "code",
   "execution_count": 5,
   "metadata": {},
   "outputs": [],
   "source": [
    "from crimson.auto_pydantic.generator import generate_input_props, generate_output_props\n",
    "from inspect import currentframe\n",
    "from typing import *\n",
    "\n",
    "class A:\n",
    "    pass\n",
    "\n",
    "a = A()\n",
    "\n",
    "\n",
    "\n",
    "def func(arg1:int = 1, arg2:A = a, *args: List[Union[Any]], **kwargs: Dict[str, Any]) -> Union[int, str]:\n",
    "    return 1"
   ]
  },
  {
   "cell_type": "code",
   "execution_count": 6,
   "metadata": {},
   "outputs": [
    {
     "name": "stdout",
     "output_type": "stream",
     "text": [
      "class FuncInputProps(BaseModel):\n",
      "    arg1: int = Field(default='1')\n",
      "    arg2: A = Field(default='a')\n",
      "    args: List[Union[Any]] = Field(default=())\n",
      "    kwargs: Dict[str, Any] = Field(default={})\n",
      "\n",
      "    def __init__(self, arg1: int=1, arg2: A=a, *args: List[Union[Any]], **kwargs: Dict[str, Any]):\n",
      "        super().__init__(arg1=arg1, arg2=arg2, args=args, kwargs=kwargs)\n"
     ]
    }
   ],
   "source": [
    "print(generate_input_props(func))"
   ]
  },
  {
   "cell_type": "code",
   "execution_count": 7,
   "metadata": {},
   "outputs": [
    {
     "name": "stdout",
     "output_type": "stream",
     "text": [
      "class FuncOutputProps(BaseModel):\n",
      "    output: Union[int, str]\n"
     ]
    }
   ],
   "source": [
    "print(generate_output_props(func))"
   ]
  }
 ],
 "metadata": {
  "kernelspec": {
   "display_name": "auto-pydantic",
   "language": "python",
   "name": "python3"
  },
  "language_info": {
   "codemirror_mode": {
    "name": "ipython",
    "version": 3
   },
   "file_extension": ".py",
   "mimetype": "text/x-python",
   "name": "python",
   "nbconvert_exporter": "python",
   "pygments_lexer": "ipython3",
   "version": "3.12.7"
  }
 },
 "nbformat": 4,
 "nbformat_minor": 2
}
