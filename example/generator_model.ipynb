{
 "cells": [
  {
   "cell_type": "code",
   "execution_count": 1,
   "metadata": {},
   "outputs": [],
   "source": [
    "from crimson.auto_pydantic.generator_model import generate_inputprops_model, generate_outputprops_model\n",
    "from pydantic import BaseModel\n",
    "from inspect import currentframe\n",
    "from typing import Union, List, Any, Dict\n",
    "\n",
    "class A:\n",
    "    pass\n",
    "\n",
    "a = A()\n",
    "\n",
    "def func(arg1:int = 1, arg2:A = A(),  *args: List[Union[Any]], **kwargs: Dict[str, Any]) -> Union[int, str]:\n",
    "    return 1\n"
   ]
  },
  {
   "cell_type": "code",
   "execution_count": 2,
   "metadata": {},
   "outputs": [],
   "source": [
    "InputModel = generate_inputprops_model(func, currentframe())"
   ]
  },
  {
   "cell_type": "code",
   "execution_count": 3,
   "metadata": {},
   "outputs": [
    {
     "data": {
      "text/plain": [
       "{'arg1': FieldInfo(annotation=int, required=False, default='1'),\n",
       " 'arg2': FieldInfo(annotation=A, required=False, default='A()'),\n",
       " 'args': FieldInfo(annotation=List[Any], required=False, default=()),\n",
       " 'kwargs': FieldInfo(annotation=Dict[str, Any], required=False, default={})}"
      ]
     },
     "execution_count": 3,
     "metadata": {},
     "output_type": "execute_result"
    }
   ],
   "source": [
    "InputModel.model_fields"
   ]
  },
  {
   "cell_type": "code",
   "execution_count": 4,
   "metadata": {},
   "outputs": [
    {
     "data": {
      "text/plain": [
       "FuncInputProps(arg1=1, arg2=<__main__.A object at 0x7fc527e7ba70>, args=[], kwargs={})"
      ]
     },
     "execution_count": 4,
     "metadata": {},
     "output_type": "execute_result"
    }
   ],
   "source": [
    "InputModel(\n",
    "    arg1 = 1,\n",
    "    arg2 = a\n",
    ")"
   ]
  },
  {
   "cell_type": "code",
   "execution_count": 5,
   "metadata": {},
   "outputs": [
    {
     "data": {
      "text/plain": [
       "FuncInputProps(arg1=1, arg2=<__main__.A object at 0x7fc527e5bbf0>, args=['args1', 'args2'], kwargs={'kwarg1': 1, 'kwarg2': 2})"
      ]
     },
     "execution_count": 5,
     "metadata": {},
     "output_type": "execute_result"
    }
   ],
   "source": [
    "input_props: BaseModel = InputModel(\n",
    "    1,\n",
    "    A(),\n",
    "    'args1',\n",
    "    'args2',\n",
    "    kwarg1 = 1,\n",
    "    kwarg2 = 2\n",
    ")\n",
    "\n",
    "input_props"
   ]
  },
  {
   "cell_type": "code",
   "execution_count": 6,
   "metadata": {},
   "outputs": [
    {
     "data": {
      "text/plain": [
       "{'arg1': 1,\n",
       " 'arg2': <__main__.A at 0x7fc527e5bbf0>,\n",
       " 'args': ['args1', 'args2'],\n",
       " 'kwargs': {'kwarg1': 1, 'kwarg2': 2}}"
      ]
     },
     "execution_count": 6,
     "metadata": {},
     "output_type": "execute_result"
    }
   ],
   "source": [
    "input_props.model_dump()"
   ]
  },
  {
   "cell_type": "code",
   "execution_count": 7,
   "metadata": {},
   "outputs": [],
   "source": [
    "OutModel = generate_outputprops_model(func, currentframe())"
   ]
  },
  {
   "cell_type": "code",
   "execution_count": 8,
   "metadata": {},
   "outputs": [
    {
     "data": {
      "text/plain": [
       "{'output': FieldInfo(annotation=Union[int, str], required=True)}"
      ]
     },
     "execution_count": 8,
     "metadata": {},
     "output_type": "execute_result"
    }
   ],
   "source": [
    "OutModel.model_fields"
   ]
  },
  {
   "cell_type": "code",
   "execution_count": 9,
   "metadata": {},
   "outputs": [
    {
     "data": {
      "text/plain": [
       "FuncOutputProps(output='string')"
      ]
     },
     "execution_count": 9,
     "metadata": {},
     "output_type": "execute_result"
    }
   ],
   "source": [
    "OutModel(\n",
    "    output = 1\n",
    ")\n",
    "\n",
    "OutModel(\n",
    "    output = \"string\"\n",
    ")\n"
   ]
  }
 ],
 "metadata": {
  "kernelspec": {
   "display_name": "auto-pydantic",
   "language": "python",
   "name": "python3"
  },
  "language_info": {
   "codemirror_mode": {
    "name": "ipython",
    "version": 3
   },
   "file_extension": ".py",
   "mimetype": "text/x-python",
   "name": "python",
   "nbconvert_exporter": "python",
   "pygments_lexer": "ipython3",
   "version": "3.12.7"
  }
 },
 "nbformat": 4,
 "nbformat_minor": 2
}
